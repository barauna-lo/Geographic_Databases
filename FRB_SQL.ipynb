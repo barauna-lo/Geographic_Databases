{
  "nbformat": 4,
  "nbformat_minor": 0,
  "metadata": {
    "colab": {
      "name": "FRB_SQL.ipynb",
      "provenance": [],
      "authorship_tag": "ABX9TyNhO2TnVfMf5yxh5NhbhPW1",
      "include_colab_link": true
    },
    "kernelspec": {
      "name": "python3",
      "display_name": "Python 3"
    },
    "language_info": {
      "name": "python"
    }
  },
  "cells": [
    {
      "cell_type": "markdown",
      "metadata": {
        "id": "view-in-github",
        "colab_type": "text"
      },
      "source": [
        "<a href=\"https://colab.research.google.com/github/barauna-lo/Geographic_Databases/blob/main/FRB_SQL.ipynb\" target=\"_parent\"><img src=\"https://colab.research.google.com/assets/colab-badge.svg\" alt=\"Open In Colab\"/></a>"
      ]
    },
    {
      "cell_type": "markdown",
      "source": [
        "https://datatofish.com/import-csv-sql-server-python/"
      ],
      "metadata": {
        "id": "du4J9nIYk645"
      }
    },
    {
      "cell_type": "code",
      "execution_count": 1,
      "metadata": {
        "colab": {
          "base_uri": "https://localhost:8080/"
        },
        "id": "j4cdOxTfkudm",
        "outputId": "163a9f3b-0562-47cb-f2be-a0f053a69c7a"
      },
      "outputs": [
        {
          "output_type": "stream",
          "name": "stdout",
          "text": [
            "--2022-06-18 20:48:58--  https://www.herta-experiment.org/frbstats/catalogue.csv\n",
            "Resolving www.herta-experiment.org (www.herta-experiment.org)... 172.67.170.118, 104.21.95.143, 2606:4700:3037::ac43:aa76, ...\n",
            "Connecting to www.herta-experiment.org (www.herta-experiment.org)|172.67.170.118|:443... connected.\n",
            "HTTP request sent, awaiting response... 200 OK\n",
            "Length: 155683 (152K) [text/csv]\n",
            "Saving to: ‘catalogue.csv’\n",
            "\n",
            "catalogue.csv       100%[===================>] 152.03K  --.-KB/s    in 0.003s  \n",
            "\n",
            "2022-06-18 20:48:58 (43.5 MB/s) - ‘catalogue.csv’ saved [155683/155683]\n",
            "\n"
          ]
        }
      ],
      "source": [
        "!wget \"https://www.herta-experiment.org/frbstats/catalogue.csv\""
      ]
    },
    {
      "cell_type": "code",
      "source": [
        "import pandas as pd\n",
        "\n",
        "data = pd.read_csv('catalogue.csv')   \n",
        "df = pd.DataFrame(data)\n",
        "\n"
      ],
      "metadata": {
        "colab": {
          "base_uri": "https://localhost:8080/"
        },
        "id": "66LUGgpJk0uF",
        "outputId": "ba7298b4-7584-4a9f-8772-4a8d97d7bf8a"
      },
      "execution_count": 2,
      "outputs": [
        {
          "output_type": "stream",
          "name": "stdout",
          "text": [
            "               frb                  utc          mjd telescope            ra  \\\n",
            "0    FRB 20010125A   2001-01-25 0:29:16  51934.02032    Parkes      19:06:53   \n",
            "1    FRB 20010305A  2001-03-05 12:29:16  51973.52032    Parkes       4:57:20   \n",
            "2    FRB 20010312A  2001-03-12 11:06:48  51980.46306    Parkes       5:26:55   \n",
            "3    FRB 20010621A  2001-06-21 13:02:11  52081.54318    Parkes      18:52:05   \n",
            "4    FRB 20010724A  2001-07-24 19:50:02  52114.82641    Parkes       1:18:06   \n",
            "..             ...                  ...          ...       ...           ...   \n",
            "801  FRB 20210518A   2021-05-18 1:26:12  59352.05986       ATA    5:08:03.50   \n",
            "802  FRB 20210630A  2021-06-30 12:48:11  59395.53346    UTMOST  17:23:07.409   \n",
            "803  FRB 20220105A   2022-01-05 0:19:19  59584.01341     ASKAP    13:55:51.4   \n",
            "804  FRB 20220414A  2022-04-14 17:26:40  59683.72685   Tianlai      13:04:21   \n",
            "805  FRB 20220501C   2022-05-01 2:11:09  59700.09108     ASKAP      23:29:50   \n",
            "\n",
            "             dec       l      b frequency       dm   flux width fluence   snr  \\\n",
            "0      -40:37:14  356.64 -20.02         -   790.30   0.54     -       -     -   \n",
            "1      -52:36:25  260.07 -38.35      1374   350.00   0.42     9    3.78  10.2   \n",
            "2      -64:56:19  274.72 -33.30         -  1187.00   0.25     -       -     -   \n",
            "3       -8:29:35   25.43  -4.00         -   745.00   0.41     -       -     -   \n",
            "4      -75:12:18  300.65 -41.81         -   375.00     30     -       -     -   \n",
            "..           ...     ...    ...       ...      ...    ...   ...     ...   ...   \n",
            "801  +26:03:37.8  177.77  -8.52      1500   411.72     43   2.8     120    20   \n",
            "802  +7:51:41.85   29.94  23.19    835.55   943.70      -  29.7   60.14    10   \n",
            "803  +22:29:19.7   18.84  74.68    1632.5   583.00      -     -       -    10   \n",
            "804    +48:18:05  117.02  68.68     747.5   208.10  128.4   2.2     204  15.1   \n",
            "805    -32:27:00   11.26 -71.55     863.5   449.50      -     -      30  16.1   \n",
            "\n",
            "                                           reference redshift  \n",
            "0           https://www.wis-tns.org/object/20010125a   0.7083  \n",
            "1                   https://arxiv.org/abs/2004.04601    0.341  \n",
            "2           https://www.wis-tns.org/object/20010312a   1.0897  \n",
            "3           https://www.wis-tns.org/object/20010621a   0.4454  \n",
            "4           https://www.wis-tns.org/object/20010724a    0.369  \n",
            "..                                               ...      ...  \n",
            "801  https://www.astronomerstelegram.org/?read=14676   0.2456  \n",
            "802         https://www.wis-tns.org/object/20210630a   0.8631  \n",
            "803         https://www.wis-tns.org/object/20220105a   0.5724  \n",
            "804         https://www.wis-tns.org/object/20220414a   0.2169  \n",
            "805         https://www.wis-tns.org/object/20220501c   0.4558  \n",
            "\n",
            "[806 rows x 16 columns]\n"
          ]
        }
      ]
    },
    {
      "cell_type": "code",
      "source": [
        "!pip install pyodbc"
      ],
      "metadata": {
        "colab": {
          "base_uri": "https://localhost:8080/"
        },
        "id": "l7JCPDRSlnTJ",
        "outputId": "9f637cf5-b50f-4d92-9e38-7a97ab34acc8"
      },
      "execution_count": 4,
      "outputs": [
        {
          "output_type": "stream",
          "name": "stdout",
          "text": [
            "Looking in indexes: https://pypi.org/simple, https://us-python.pkg.dev/colab-wheels/public/simple/\n",
            "Collecting pyodbc\n",
            "  Downloading pyodbc-4.0.32.tar.gz (280 kB)\n",
            "\u001b[K     |████████████████████████████████| 280 kB 17.0 MB/s \n",
            "\u001b[?25hBuilding wheels for collected packages: pyodbc\n",
            "  Building wheel for pyodbc (setup.py) ... \u001b[?25l\u001b[?25hdone\n",
            "  Created wheel for pyodbc: filename=pyodbc-4.0.32-cp37-cp37m-linux_x86_64.whl size=287360 sha256=8d96d1237dccfbe29b22b4138f6c628ac859a2c2c4694acd31df5daeca53623e\n",
            "  Stored in directory: /root/.cache/pip/wheels/2e/9c/da/8652fd42e0f662015554f00a9e96fe4f438dfd1ef59787879e\n",
            "Successfully built pyodbc\n",
            "Installing collected packages: pyodbc\n",
            "Successfully installed pyodbc-4.0.32\n"
          ]
        }
      ]
    },
    {
      "cell_type": "code",
      "source": [
        "import pyodbc\n",
        "\n",
        "conn = pyodbc.connect('Driver={SQL Server};'\n",
        "                      'Server=RON\\SQLEXPRESS;'\n",
        "                      'Database=test_database;'\n",
        "                      'Trusted_Connection=yes;')\n",
        "cursor = conn.cursor()"
      ],
      "metadata": {
        "colab": {
          "base_uri": "https://localhost:8080/",
          "height": 380
        },
        "id": "nC27q_7Nlj6G",
        "outputId": "d540d854-e56b-4f40-b641-ac55c106dfea"
      },
      "execution_count": 3,
      "outputs": [
        {
          "output_type": "error",
          "ename": "ModuleNotFoundError",
          "evalue": "ignored",
          "traceback": [
            "\u001b[0;31m---------------------------------------------------------------------------\u001b[0m",
            "\u001b[0;31mModuleNotFoundError\u001b[0m                       Traceback (most recent call last)",
            "\u001b[0;32m<ipython-input-3-92c04e1c5449>\u001b[0m in \u001b[0;36m<module>\u001b[0;34m()\u001b[0m\n\u001b[0;32m----> 1\u001b[0;31m \u001b[0;32mimport\u001b[0m \u001b[0mpyodbc\u001b[0m\u001b[0;34m\u001b[0m\u001b[0;34m\u001b[0m\u001b[0m\n\u001b[0m\u001b[1;32m      2\u001b[0m \u001b[0;34m\u001b[0m\u001b[0m\n\u001b[1;32m      3\u001b[0m conn = pyodbc.connect('Driver={SQL Server};'\n\u001b[1;32m      4\u001b[0m                       \u001b[0;34m'Server=RON\\SQLEXPRESS;'\u001b[0m\u001b[0;34m\u001b[0m\u001b[0;34m\u001b[0m\u001b[0m\n\u001b[1;32m      5\u001b[0m                       \u001b[0;34m'Database=test_database;'\u001b[0m\u001b[0;34m\u001b[0m\u001b[0;34m\u001b[0m\u001b[0m\n",
            "\u001b[0;31mModuleNotFoundError\u001b[0m: No module named 'pyodbc'",
            "",
            "\u001b[0;31m---------------------------------------------------------------------------\u001b[0;32m\nNOTE: If your import is failing due to a missing package, you can\nmanually install dependencies using either !pip or !apt.\n\nTo view examples of installing some common dependencies, click the\n\"Open Examples\" button below.\n\u001b[0;31m---------------------------------------------------------------------------\u001b[0m\n"
          ],
          "errorDetails": {
            "actions": [
              {
                "action": "open_url",
                "actionText": "Open Examples",
                "url": "/notebooks/snippets/importing_libraries.ipynb"
              }
            ]
          }
        }
      ]
    },
    {
      "cell_type": "code",
      "source": [
        ""
      ],
      "metadata": {
        "id": "Q7WEZEmuldCi"
      },
      "execution_count": null,
      "outputs": []
    }
  ]
}